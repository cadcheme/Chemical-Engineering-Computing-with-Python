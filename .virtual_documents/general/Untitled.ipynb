


import numpy as np
from scipy.optimize import fsolve


# Define the system of equations
def equations(vars):
    x, y = vars
    eq1 = x**2 + y - 5         
    eq2 = 2*x + np.log10( y + 2) - 3
    return [eq1, eq2]


# Initial guess for x and y
initial_guess = [0.5, 1.0]

# Solve the equations
solution = fsolve(equations, initial_guess)


# Output the results with four decimal places
x, y = solution
print(f'Solution:')
print(f'x = {x:.4f}')
print(f'y = {y:.4f}')



