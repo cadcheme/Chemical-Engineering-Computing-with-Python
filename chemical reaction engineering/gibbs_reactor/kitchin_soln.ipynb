{
 "cells": [
  {
   "cell_type": "markdown",
   "id": "666303c8-be7c-4968-98a4-807996551c96",
   "metadata": {},
   "source": [
    "# 📘 Problem Overview\n",
    "\n",
    "## 🔍 Steam Cracking Equilibrium via Gibbs Energy Minimization\n",
    "\n",
    "This problem models the equilibrium composition of a steam cracking reactor effluent at $T = 1000\\ \\text{K}$ and $P = 1\\ \\text{atm}$. The feed contains 4 moles of $H_2O$ per mole of $C_2H_6$. The goal is to determine the equilibrium mole fractions of the species present using Gibbs free energy minimization subject to atomic balance constraints.\n",
    "\n",
    "---\n",
    "\n",
    "# 📘 Chemical Species and Gibbs Energies\n",
    "\n",
    "The species considered in the equilibrium mixture are:\n",
    "\n",
    "| Component | Gibbs Energy of Formation (kcal/mol) |\n",
    "|-----------|--------------------------------------|\n",
    "| CH₄       | 4.61                                 |\n",
    "| C₂H₄      | 28.249                               |\n",
    "| C₂H₂      | 40.604                               |\n",
    "| CO₂       | -94.61                               |\n",
    "| CO        | -47.942                              |\n",
    "| O₂        | 0                                    |\n",
    "| H₂        | 0                                    |\n",
    "| H₂O       | -46.03                               |\n",
    "| C₂H₆      | 26.13                                |\n",
    "\n",
    "---\n",
    "\n",
    "# 📘 Objective Function\n",
    "\n",
    "We minimize the total Gibbs energy of the system:\n",
    "\n",
    "$$\n",
    "G = \\sum_{i=1}^{c} n_i \\left( G_i + RT \\ln \\left( \\frac{n_i + \\varepsilon}{\\sum n_i} \\right) \\right)\n",
    "$$\n",
    "\n",
    "Where:\n",
    "- $n_i$: moles of component $i$\n",
    "- $G_i$: Gibbs energy of formation of component $i$\n",
    "- $R$: gas constant (1.9872 cal/mol·K)\n",
    "- $T$: temperature (1000 K)\n",
    "- $c$: number of components\n",
    "- $\\varepsilon$: small number to avoid $\\ln(0)$\n",
    "\n",
    "---\n",
    "\n",
    "# 📘 Atomic Balance Constraints\n",
    "\n",
    "To ensure conservation of atoms, we impose the following constraints:\n",
    "\n",
    "### 🔸 Oxygen Balance\n",
    "$$\n",
    "g_1 = 2n_{CO_2} + n_{CO} + 2n_{O_2} + n_{H_2O} - 4 = 0\n",
    "$$\n",
    "\n",
    "### 🔸 Hydrogen Balance\n",
    "$$\n",
    "g_2 = 4n_{CH_4} + 4n_{C_2H_4} + 2n_{C_2H_2} + 2n_{H_2} + 2n_{H_2O} + 6n_{C_2H_6} - 14 = 0\n",
    "$$\n",
    "\n",
    "### 🔸 Carbon Balance\n",
    "$$\n",
    "g_3 = n_{CH_4} + 2n_{C_2H_4} + 2n_{C_2H_2} + n_{CO_2} + n_{CO} + 2n_{C_2H_6} - 2 = 0\n",
    "$$\n",
    "\n",
    "---\n",
    "\n",
    "# 📘 Python Implementation"
   ]
  },
  {
   "cell_type": "code",
   "execution_count": 1,
   "id": "c4da14ac-8b49-4d6b-8a8e-c2eee1031587",
   "metadata": {},
   "outputs": [],
   "source": [
    "import numpy as np\n",
    "\n",
    "R = 0.00198588 # kcal/mol/K\n",
    "T = 1000 # K\n",
    "\n",
    "species = ['CH4', 'C2H4', 'C2H2', 'CO2', 'CO', 'O2', 'H2', 'H2O', 'C2H6']\n",
    "\n",
    "# $G_^\\circ for each species. These are the heats of formation for each\n",
    "# species.\n",
    "Gjo = np.array([4.61, 28.249, 40.604, -94.61, -47.942, 0, 0, -46.03, 26.13]) # kcal/mol"
   ]
  },
  {
   "cell_type": "code",
   "execution_count": 2,
   "id": "e83cf425-7062-4645-9ec9-516cbe9351b4",
   "metadata": {},
   "outputs": [],
   "source": [
    "import numpy as np\n",
    "\n",
    "def func(nj):\n",
    "    nj = np.array(nj)\n",
    "    Enj = np.sum(nj);\n",
    "    G = np.sum(nj * (Gjo / R / T + np.log(nj / Enj)))\n",
    "    return G"
   ]
  },
  {
   "cell_type": "code",
   "execution_count": 3,
   "id": "bb141c13-fb8f-4b74-bbac-c0b76a90adbc",
   "metadata": {},
   "outputs": [],
   "source": [
    "Aeq = np.array([[0,   0,    0,   2,   1,  2,  0,  1,   0],      # oxygen balance\n",
    "                [4,   4,    2,   0,   0,  0,  2,  2,   6],      # hydrogen balance\n",
    "                [1,   2,    2,   1,   1,  0,  0,  0,   2]])     # carbon balance\n",
    "\n",
    "# the incoming feed was 4 mol H2O and 1 mol ethane\n",
    "beq = np.array([4,  # moles of oxygen atoms coming in\n",
    "                14, # moles of hydrogen atoms coming in\n",
    "                2]) # moles of carbon atoms coming in\n",
    "\n",
    "def ec1(n):\n",
    "    'equality constraint'\n",
    "    return np.dot(Aeq, n) - beq\n",
    "\n",
    "def ic1(n):\n",
    "    '''inequality constraint\n",
    "       all n>=0\n",
    "    '''   \n",
    "    return n"
   ]
  },
  {
   "cell_type": "code",
   "execution_count": 4,
   "id": "a76b5050-9a63-455d-bbe9-3f6a0841cee1",
   "metadata": {},
   "outputs": [
    {
     "name": "stdout",
     "output_type": "stream",
     "text": [
      "Singular matrix E in LSQ subproblem    (Exit mode 5)\n",
      "            Current function value: nan\n",
      "            Iterations: 2\n",
      "            Function evaluations: 20\n",
      "            Gradient evaluations: 2\n",
      "CH4        0.06691\n",
      "C2H4       -3.801e-14\n",
      "C2H2       -1.638e-13\n",
      "CO2        0.5453\n",
      "CO         1.388\n",
      "O2         -4.708e-13\n",
      "H2         5.345\n",
      "H2O        1.522\n",
      "C2H6       3.961e-15\n",
      "[8.8817842e-16 0.0000000e+00 4.4408921e-16]\n",
      "True\n"
     ]
    },
    {
     "name": "stderr",
     "output_type": "stream",
     "text": [
      "C:\\Users\\Mohammad\\AppData\\Local\\Temp\\ipykernel_24556\\1892264215.py:6: RuntimeWarning: invalid value encountered in log\n",
      "  G = np.sum(nj * (Gjo / R / T + np.log(nj / Enj)))\n"
     ]
    }
   ],
   "source": [
    "# initial guess suggested in the example\n",
    "n0 = [1e-3, 1e-3, 1e-3, 0.993, 1.0, 1e-4, 5.992, 1.0, 1e-3] \n",
    "\n",
    "n0 = [0.066, 8.7e-08, 2.1e-14, 0.545, 1.39, 5.7e-14, 5.346, 1.521, 1.58e-7]\n",
    "\n",
    "from scipy.optimize import fmin_slsqp\n",
    "\n",
    "X = fmin_slsqp(func, n0, f_eqcons=ec1,f_ieqcons=ic1, iter=300, acc=1e-12)\n",
    "\n",
    "for s,x in zip(species, X):\n",
    "    print('{0:10s} {1:1.4g}'.format(s, x))\n",
    "\n",
    "# check that constraints were met\n",
    "print( np.dot(Aeq, X) - beq)\n",
    "print( np.all( np.abs( np.dot(Aeq, X) - beq) < 1e-12) )"
   ]
  },
  {
   "cell_type": "code",
   "execution_count": null,
   "id": "106e2ee8-185f-4d5b-8854-a4025427275b",
   "metadata": {},
   "outputs": [],
   "source": []
  }
 ],
 "metadata": {
  "kernelspec": {
   "display_name": "Python 3 (ipykernel)",
   "language": "python",
   "name": "python3"
  },
  "language_info": {
   "codemirror_mode": {
    "name": "ipython",
    "version": 3
   },
   "file_extension": ".py",
   "mimetype": "text/x-python",
   "name": "python",
   "nbconvert_exporter": "python",
   "pygments_lexer": "ipython3",
   "version": "3.12.10"
  }
 },
 "nbformat": 4,
 "nbformat_minor": 5
}
