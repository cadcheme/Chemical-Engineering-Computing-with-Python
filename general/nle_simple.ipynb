{
 "cells": [
  {
   "cell_type": "markdown",
   "id": "fc82733d-72ea-4128-8100-cb20608749cd",
   "metadata": {},
   "source": [
    "### Single Nonlinear Algebraic Equation: Root Finding\n",
    "\n",
    "This section demonstrates how to solve a single nonlinear algebraic equation using Python. We'll use numerical methods to find the root of a function that cannot be solved analytically.\n",
    "\n",
    "#### Equation\n",
    "\n",
    "We aim to solve the following nonlinear equation:\n",
    "\n",
    "$$\n",
    "f(x) = x^3 - x - 2 = 0\n",
    "$$\n",
    "\n",
    "#### Purpose\n",
    "\n",
    "To find the value of \\( x \\) that satisfies the equation above using Python's `scipy.optimize.root_scalar` method. This approach is useful when:\n",
    "- The equation is nonlinear and has no closed-form solution.\n",
    "- You want to apply robust numerical techniques like Brent’s method or Newton-Raphson.\n",
    "- You need to validate physical models or design equations in chemical engineering workflows.\n",
    "\n",
    "Each code cell will include comments explaining the logic, assumptions, and method used. This ensures clarity for future reference and educational reuse."
   ]
  },
  {
   "cell_type": "code",
   "execution_count": 9,
   "id": "0ce0633c-99db-4197-b342-9879e36016cc",
   "metadata": {},
   "outputs": [],
   "source": [
    "# Load required libraries\n",
    "# We use scipy.optimize for numerical root finding\n",
    "from scipy.optimize import root_scalar"
   ]
  },
  {
   "cell_type": "code",
   "execution_count": 10,
   "id": "453a24e2-5104-4051-8d2b-f1e1aad2bf19",
   "metadata": {},
   "outputs": [],
   "source": [
    "# Define the nonlinear function f(x)\n",
    "# This is the equation we want to solve: f(x) = x^3 - x - 2 = 0\n",
    "\n",
    "def f(x):\n",
    "    return x**3 - x - 2"
   ]
  },
  {
   "cell_type": "code",
   "execution_count": 11,
   "id": "e5a9956f-ab69-48bd-b4b9-79ea7512656d",
   "metadata": {},
   "outputs": [],
   "source": [
    "# Use root_scalar to find the root numerically\n",
    "# Brent's method is robust and does not require derivatives\n",
    "# We must provide a bracket [a, b] where f(a) and f(b) have opposite signs\n",
    "\n",
    "solution = root_scalar(f, bracket=[1, 2], method='brentq')"
   ]
  },
  {
   "cell_type": "code",
   "execution_count": 12,
   "id": "f0efa38b-7e3c-43f2-8d5a-94f9bc6ea0f0",
   "metadata": {},
   "outputs": [
    {
     "name": "stdout",
     "output_type": "stream",
     "text": [
      "Root found: x = 1.521380\n"
     ]
    }
   ],
   "source": [
    "# Display the root and check convergence status\n",
    "\n",
    "if solution.converged:\n",
    "    print(f\"Root found: x = {solution.root:.6f}\")\n",
    "else:\n",
    "    print(\"Root finding did not converge.\")"
   ]
  },
  {
   "cell_type": "code",
   "execution_count": null,
   "id": "e339401d-46d2-4dbb-a46d-527cd881d34f",
   "metadata": {},
   "outputs": [],
   "source": []
  }
 ],
 "metadata": {
  "kernelspec": {
   "display_name": "Python 3 (ipykernel)",
   "language": "python",
   "name": "python3"
  },
  "language_info": {
   "codemirror_mode": {
    "name": "ipython",
    "version": 3
   },
   "file_extension": ".py",
   "mimetype": "text/x-python",
   "name": "python",
   "nbconvert_exporter": "python",
   "pygments_lexer": "ipython3",
   "version": "3.12.10"
  }
 },
 "nbformat": 4,
 "nbformat_minor": 5
}
