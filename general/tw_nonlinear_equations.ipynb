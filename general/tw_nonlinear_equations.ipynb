{
 "cells": [
  {
   "cell_type": "markdown",
   "id": "649f521e-15fd-4ab5-84dd-a8a6210d806b",
   "metadata": {},
   "source": [
    "### Nonlinear Equations Solver\n",
    "\n",
    "When solving nonlinear equations—whether a single equation or a system—write each equation so it equals 0 (root-finding form) and provide an initial guess for each variable. In other words, express each equation as 𝑓(𝑥)=0 and supply an initial guess for every nonlinear variable.\n",
    "\n",
    "Ref: https://polymathplus.org/"
   ]
  },
  {
   "cell_type": "code",
   "execution_count": 93,
   "id": "df0597e0-794d-456a-bf7e-3df10b602067",
   "metadata": {},
   "outputs": [],
   "source": [
    "import numpy as np\n",
    "from scipy.optimize import fsolve"
   ]
  },
  {
   "cell_type": "code",
   "execution_count": 94,
   "id": "1f26df56-e401-49ba-8e9f-ee3e1e0b439d",
   "metadata": {},
   "outputs": [],
   "source": [
    "# Define the system of equations\n",
    "def equations(vars):\n",
    "    x, y = vars\n",
    "    eq1 = x**2 + y - 5         \n",
    "    eq2 = 2*x + np.log10( y + 2) - 3\n",
    "    return [eq1, eq2]"
   ]
  },
  {
   "cell_type": "code",
   "execution_count": 95,
   "id": "97006e59-2346-439c-b0bc-e6c257eb2fdb",
   "metadata": {},
   "outputs": [],
   "source": [
    "# Initial guess for x and y\n",
    "initial_guess = [0.5, 1.0]\n",
    "\n",
    "# Solve the equations\n",
    "solution = fsolve(equations, initial_guess)"
   ]
  },
  {
   "cell_type": "code",
   "execution_count": 96,
   "id": "8570a6e5-c1f4-4c27-ba2e-708dd4fad9f7",
   "metadata": {},
   "outputs": [
    {
     "name": "stdout",
     "output_type": "stream",
     "text": [
      "Solution:\n",
      "x = 1.1204\n",
      "y = 3.7448\n"
     ]
    }
   ],
   "source": [
    "# Output the results with four decimal places\n",
    "x, y = solution\n",
    "print(f'Solution:')\n",
    "print(f'x = {x:.4f}')\n",
    "print(f'y = {y:.4f}')"
   ]
  },
  {
   "cell_type": "code",
   "execution_count": null,
   "id": "ce2140eb-8c95-4f4e-b159-5394e90580ec",
   "metadata": {},
   "outputs": [],
   "source": []
  }
 ],
 "metadata": {
  "kernelspec": {
   "display_name": "Python 3 (ipykernel)",
   "language": "python",
   "name": "python3"
  },
  "language_info": {
   "codemirror_mode": {
    "name": "ipython",
    "version": 3
   },
   "file_extension": ".py",
   "mimetype": "text/x-python",
   "name": "python",
   "nbconvert_exporter": "python",
   "pygments_lexer": "ipython3",
   "version": "3.12.10"
  }
 },
 "nbformat": 4,
 "nbformat_minor": 5
}
