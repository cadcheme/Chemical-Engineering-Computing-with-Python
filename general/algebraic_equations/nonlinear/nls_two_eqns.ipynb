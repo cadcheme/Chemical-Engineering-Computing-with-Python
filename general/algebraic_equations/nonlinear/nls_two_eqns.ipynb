{
 "cells": [
  {
   "cell_type": "markdown",
   "id": "649f521e-15fd-4ab5-84dd-a8a6210d806b",
   "metadata": {},
   "source": [
    "### Set of Nonlinear Algebraic Equations: Root Finding\n",
    "\n",
    "This section demonstrates how to solve a system of two nonlinear algebraic equations using Python. These equations involve both polynomial and logarithmic terms, and cannot be solved analytically.\n",
    "\n",
    "#### Equations\n",
    "\n",
    "We aim to solve the following system:\n",
    "\n",
    "$$\n",
    "\\begin{cases}\n",
    "x^2 + y - 5 = 0 \\\\\n",
    "2x + \\log_{10}(y + 2) - 3 = 0\n",
    "\\end{cases}\n",
    "$$\n",
    "\n",
    "#### Purpose\n",
    "\n",
    "To find the values of \\( x \\) and \\( y \\) that simultaneously satisfy both equations using `scipy.optimize.fsolve`. This method is suitable when:\n",
    "- The system is nonlinear and coupled.\n",
    "- You can provide a reasonable initial guess.\n",
    "- You want to validate design constraints or equilibrium conditions in chemical engineering models.\n",
    "\n",
    "Each code cell includes explanatory comments to ensure clarity and reusability.\n",
    "\n",
    "#### ChangeLog\n",
    "Mohammad Rahmani  \n",
    "Chemical Engineering Department  \n",
    "Amirkabir University of Technology  \n",
    "m.rahmani@aut.ac.ir\n",
    "\n",
    "Rev 1: Oct 4th, 2025"
   ]
  },
  {
   "cell_type": "code",
   "execution_count": 97,
   "id": "df0597e0-794d-456a-bf7e-3df10b602067",
   "metadata": {},
   "outputs": [],
   "source": [
    "# Load required libraries\n",
    "from scipy.optimize import fsolve\n",
    "import numpy as np"
   ]
  },
  {
   "cell_type": "code",
   "execution_count": 98,
   "id": "1f26df56-e401-49ba-8e9f-ee3e1e0b439d",
   "metadata": {},
   "outputs": [],
   "source": [
    "# Define the system of nonlinear equations as a function\n",
    "# The function returns a list of residuals [eq1, eq2]\n",
    "\n",
    "def equations(vars):\n",
    "    x, y = vars\n",
    "    eq1 = x**2 + y - 5\n",
    "    eq2 = 2*x + np.log10(y + 2) - 3  # log10 is base-10 logarithm\n",
    "    return [eq1, eq2]"
   ]
  },
  {
   "cell_type": "code",
   "execution_count": 99,
   "id": "97006e59-2346-439c-b0bc-e6c257eb2fdb",
   "metadata": {},
   "outputs": [],
   "source": [
    "# Provide an initial guess for [x, y]\n",
    "initial_guess = [1.0, 1.0]\n",
    "\n",
    "# Solve the system using fsolve\n",
    "solution = fsolve(equations, initial_guess)"
   ]
  },
  {
   "cell_type": "code",
   "execution_count": 100,
   "id": "8570a6e5-c1f4-4c27-ba2e-708dd4fad9f7",
   "metadata": {},
   "outputs": [
    {
     "name": "stdout",
     "output_type": "stream",
     "text": [
      "Solution:\n",
      "  x = 1.120363\n",
      "  y = 3.744787\n",
      "Residuals:\n",
      "  eq1 = 0.00e+00\n",
      "  eq2 = 4.44e-16\n"
     ]
    }
   ],
   "source": [
    "# Display the solution\n",
    "x_sol, y_sol = solution\n",
    "print(f\"Solution:\\n  x = {x_sol:.6f}\\n  y = {y_sol:.6f}\")\n",
    "\n",
    "# Optional: verify residuals\n",
    "residuals = equations(solution)\n",
    "print(f\"Residuals:\\n  eq1 = {residuals[0]:.2e}\\n  eq2 = {residuals[1]:.2e}\")"
   ]
  },
  {
   "cell_type": "code",
   "execution_count": null,
   "id": "ce2140eb-8c95-4f4e-b159-5394e90580ec",
   "metadata": {},
   "outputs": [],
   "source": []
  }
 ],
 "metadata": {
  "kernelspec": {
   "display_name": "Python 3 (ipykernel)",
   "language": "python",
   "name": "python3"
  },
  "language_info": {
   "codemirror_mode": {
    "name": "ipython",
    "version": 3
   },
   "file_extension": ".py",
   "mimetype": "text/x-python",
   "name": "python",
   "nbconvert_exporter": "python",
   "pygments_lexer": "ipython3",
   "version": "3.12.10"
  }
 },
 "nbformat": 4,
 "nbformat_minor": 5
}
