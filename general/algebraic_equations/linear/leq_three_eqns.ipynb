{
 "cells": [
  {
   "cell_type": "markdown",
   "id": "13157db9-7820-4d1b-a6c0-d1bad62e0081",
   "metadata": {},
   "source": [
    "### System of Linear Equations: Direct Solution\n",
    "\n",
    "This section demonstrates how to solve a system of three linear equations with three unknowns using Python. Linear systems are common in material balances, economic modeling, and instrumentation calibration.\n",
    "\n",
    "#### Equations\n",
    "\n",
    "We aim to solve the following system:\n",
    "\n",
    "$$\n",
    "\\begin{cases}\n",
    "a + 2c = 50 \\\\\n",
    "b = -2 + c \\\\\n",
    "a + 23c = 12 + b\n",
    "\\end{cases}\n",
    "$$\n",
    "\n",
    "#### Purpose\n",
    "\n",
    "To find the values of \\( a \\), \\( b \\), and \\( c \\) that satisfy all three equations simultaneously using matrix algebra. We'll use `numpy.linalg.solve`, which is efficient and accurate for well-conditioned systems.\n",
    "\n",
    "Each code cell includes explanatory comments for clarity and future reuse.\n",
    "\n",
    "#### ChangeLog\n",
    "Mohammad Rahmani  \n",
    "Chemical Engineering Department  \n",
    "Amirkabir University of Technology  \n",
    "m.rahmani@aut.ac.ir\n",
    "\n",
    "Rev 1: Oct 4th, 2025"
   ]
  },
  {
   "cell_type": "code",
   "execution_count": 1,
   "id": "5a642140-d40b-462b-9990-2bd93d2a3e32",
   "metadata": {},
   "outputs": [],
   "source": [
    "# Load required library for linear algebra\n",
    "import numpy as np"
   ]
  },
  {
   "cell_type": "code",
   "execution_count": 2,
   "id": "44959830-1b54-473a-98f3-25932e0154dd",
   "metadata": {},
   "outputs": [],
   "source": [
    "# Rearranged system in matrix form: A @ x = b\n",
    "# Unknowns: [a, b, c]\n",
    "\n",
    "# Coefficient matrix A\n",
    "A = np.array([\n",
    "    [1, 0, 2],    # a + 2c = 50\n",
    "    [0, 1, -1],   # b - c = -2 → b = -2 + c\n",
    "    [1, -1, 23]   # a - b + 23c = 12 → a + 23c = 12 + b\n",
    "])\n",
    "\n",
    "# Right-hand side vector b\n",
    "b = np.array([50, -2, 12])"
   ]
  },
  {
   "cell_type": "code",
   "execution_count": 4,
   "id": "918b2146-205e-4ebb-9154-8cc4a9c692a5",
   "metadata": {},
   "outputs": [],
   "source": [
    "# Solve the linear system using numpy.linalg.solve\n",
    "solution = np.linalg.solve(A, b)\n",
    "\n",
    "# Extract variables\n",
    "a, b_val, c = solution"
   ]
  },
  {
   "cell_type": "code",
   "execution_count": 5,
   "id": "35743213-8351-4548-b363-26f42786db53",
   "metadata": {},
   "outputs": [
    {
     "name": "stdout",
     "output_type": "stream",
     "text": [
      "Solution:\n",
      "  a = 54.000000\n",
      "  b = -4.000000\n",
      "  c = -2.000000\n",
      "Residuals:\n",
      "  [0. 0. 0.]\n"
     ]
    }
   ],
   "source": [
    "# Display the solution\n",
    "print(f\"Solution:\\n  a = {a:.6f}\\n  b = {b_val:.6f}\\n  c = {c:.6f}\")\n",
    "\n",
    "# Optional: verify residuals\n",
    "residuals = A @ solution - b\n",
    "print(f\"Residuals:\\n  {residuals}\")"
   ]
  },
  {
   "cell_type": "code",
   "execution_count": null,
   "id": "cba7035c-fec0-4db6-8e48-9957665d79c3",
   "metadata": {},
   "outputs": [],
   "source": []
  }
 ],
 "metadata": {
  "kernelspec": {
   "display_name": "Python 3 (ipykernel)",
   "language": "python",
   "name": "python3"
  },
  "language_info": {
   "codemirror_mode": {
    "name": "ipython",
    "version": 3
   },
   "file_extension": ".py",
   "mimetype": "text/x-python",
   "name": "python",
   "nbconvert_exporter": "python",
   "pygments_lexer": "ipython3",
   "version": "3.12.10"
  }
 },
 "nbformat": 4,
 "nbformat_minor": 5
}
