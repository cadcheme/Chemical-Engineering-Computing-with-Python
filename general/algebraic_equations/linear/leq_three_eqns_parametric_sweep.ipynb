{
 "cells": [
  {
   "cell_type": "markdown",
   "id": "0499ad89-6021-4908-abd1-d8f6af01748c",
   "metadata": {},
   "source": [
    "### System of Linear Equations with Parametric RHS Sweep (No External Libraries)\n",
    "\n",
    "This section demonstrates how to solve a system of three linear equations with three unknowns, where the right-hand side (RHS) values vary parametrically. We'll use only built-in Python and NumPy functions to keep the code lightweight and educational.\n",
    "\n",
    "#### Equations\n",
    "\n",
    "We solve the system:\n",
    "\n",
    "$$\n",
    "\\begin{cases}\n",
    "a + 2c = R_1 \\\\\n",
    "b = -2 + c \\\\\n",
    "a + 23c = R_3 + b\n",
    "\\end{cases}\n",
    "$$\n",
    "\n",
    "#### Purpose\n",
    "\n",
    "To compute the solution \\((a, b, c)\\) for multiple RHS scenarios using `numpy.linalg.solve`. This helps explore how changes in external conditions affect internal variables—useful for sensitivity analysis and design validation.\n",
    "\n",
    "#### ChangeLog\n",
    "Mohammad Rahmani  \n",
    "Chemical Engineering Department  \n",
    "Amirkabir University of Technology  \n",
    "m.rahmani@aut.ac.ir\n",
    "\n",
    "Rev 1: Oct 4th, 2025"
   ]
  },
  {
   "cell_type": "code",
   "execution_count": 5,
   "id": "bf9c8d73-bc00-4382-b35b-996c2524e511",
   "metadata": {},
   "outputs": [],
   "source": [
    "# Load required libraries\n",
    "import numpy as np"
   ]
  },
  {
   "cell_type": "code",
   "execution_count": 6,
   "id": "5e24177e-28a0-4e25-85b7-2ef05ae5d149",
   "metadata": {},
   "outputs": [],
   "source": [
    "# Coefficient matrix A (fixed for all RHS variations)\n",
    "# Unknowns: [a, b, c]\n",
    "\n",
    "A = np.array([\n",
    "    [1, 0, 2],    # a + 2c = R1\n",
    "    [0, 1, -1],   # b - c = -2 → b = -2 + c\n",
    "    [1, -1, 23]   # a - b + 23c = R3 → a + 23c = R3 + b\n",
    "])"
   ]
  },
  {
   "cell_type": "code",
   "execution_count": 7,
   "id": "301237ed-0e4c-41da-8df8-75f41deadec9",
   "metadata": {},
   "outputs": [
    {
     "name": "stdout",
     "output_type": "stream",
     "text": [
      "    R1     R3          a          b          c\n",
      "----------------------------------------------\n",
      "  40.0    5.0    43.7000    -3.8500    -1.8500\n",
      "  40.0   10.0    43.2000    -3.6000    -1.6000\n",
      "  40.0   15.0    42.7000    -3.3500    -1.3500\n",
      "  40.0   20.0    42.2000    -3.1000    -1.1000\n",
      "  40.0   25.0    41.7000    -2.8500    -0.8500\n",
      "  45.0    5.0    49.2000    -4.1000    -2.1000\n",
      "  45.0   10.0    48.7000    -3.8500    -1.8500\n",
      "  45.0   15.0    48.2000    -3.6000    -1.6000\n",
      "  45.0   20.0    47.7000    -3.3500    -1.3500\n",
      "  45.0   25.0    47.2000    -3.1000    -1.1000\n",
      "  50.0    5.0    54.7000    -4.3500    -2.3500\n",
      "  50.0   10.0    54.2000    -4.1000    -2.1000\n",
      "  50.0   15.0    53.7000    -3.8500    -1.8500\n",
      "  50.0   20.0    53.2000    -3.6000    -1.6000\n",
      "  50.0   25.0    52.7000    -3.3500    -1.3500\n",
      "  55.0    5.0    60.2000    -4.6000    -2.6000\n",
      "  55.0   10.0    59.7000    -4.3500    -2.3500\n",
      "  55.0   15.0    59.2000    -4.1000    -2.1000\n",
      "  55.0   20.0    58.7000    -3.8500    -1.8500\n",
      "  55.0   25.0    58.2000    -3.6000    -1.6000\n",
      "  60.0    5.0    65.7000    -4.8500    -2.8500\n",
      "  60.0   10.0    65.2000    -4.6000    -2.6000\n",
      "  60.0   15.0    64.7000    -4.3500    -2.3500\n",
      "  60.0   20.0    64.2000    -4.1000    -2.1000\n",
      "  60.0   25.0    63.7000    -3.8500    -1.8500\n"
     ]
    }
   ],
   "source": [
    "# Define ranges for R1 and R3\n",
    "R1_values = np.linspace(40, 60, 5)   # Sweep R1 from 40 to 60\n",
    "R3_values = np.linspace(5, 25, 5)    # Sweep R3 from 5 to 25\n",
    "\n",
    "# Print header\n",
    "print(f\"{'R1':>6} {'R3':>6} {'a':>10} {'b':>10} {'c':>10}\")\n",
    "print(\"-\" * 46)\n",
    "\n",
    "# Loop over combinations of R1 and R3\n",
    "for R1 in R1_values:\n",
    "    for R3 in R3_values:\n",
    "        # Construct RHS vector for current parameters\n",
    "        b_vec = np.array([R1, -2, R3])\n",
    "        \n",
    "        # Solve the system\n",
    "        sol = np.linalg.solve(A, b_vec)\n",
    "        a, b_val, c = sol\n",
    "        \n",
    "        # Print formatted result\n",
    "        print(f\"{R1:6.1f} {R3:6.1f} {a:10.4f} {b_val:10.4f} {c:10.4f}\")"
   ]
  },
  {
   "cell_type": "code",
   "execution_count": null,
   "id": "d99084d0-e20d-40df-8757-3730b4465f5e",
   "metadata": {},
   "outputs": [],
   "source": []
  }
 ],
 "metadata": {
  "kernelspec": {
   "display_name": "Python 3 (ipykernel)",
   "language": "python",
   "name": "python3"
  },
  "language_info": {
   "codemirror_mode": {
    "name": "ipython",
    "version": 3
   },
   "file_extension": ".py",
   "mimetype": "text/x-python",
   "name": "python",
   "nbconvert_exporter": "python",
   "pygments_lexer": "ipython3",
   "version": "3.12.10"
  }
 },
 "nbformat": 4,
 "nbformat_minor": 5
}
