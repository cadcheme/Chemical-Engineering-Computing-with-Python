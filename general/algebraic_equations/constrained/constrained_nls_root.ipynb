{
 "cells": [
  {
   "cell_type": "markdown",
   "id": "e056b474-aafd-4c86-baec-4efcfa96114e",
   "metadata": {},
   "source": [
    "### System of Nonlinear Algebraic Equations with Positivity Constraints (LM Method)\n",
    "\n",
    "This example solves a system of three nonlinear algebraic equations using the Levenberg–Marquardt method (`method='lm'`) via `scipy.optimize.root`. All variables are constrained to be positive, and this is enforced inside the residual function.\n",
    "\n",
    "#### Equations\n",
    "\n",
    "We solve:\n",
    "\n",
    "$$\n",
    "\\begin{cases}\n",
    "f_1(x_1, x_2, x_3) = \\dfrac{x_1}{x_2} - 5 \\ln\\left(\\dfrac{0.4 x_2}{x_3}\\right) + 4.45977 = 0 \\\\\n",
    "f_2(x_1, x_2) = x_2 + x_1 - 1 = 0 \\\\\n",
    "f_3(x_1, x_3) = x_3 + 0.5 x_1 - 0.4 = 0\n",
    "\\end{cases}\n",
    "$$\n",
    "\n",
    "#### Initial Guesses and Constraints\n",
    "\n",
    "- $x_1(0) = 0.35 \\geq 0$\n",
    "- $x_2(0) = 0.5 > 0$\n",
    "- $x_3(0) = 0.15 > 0$\n",
    "\n",
    "#### Purpose\n",
    "\n",
    "To find the values of $x_1$, $x_2$, and $x_3$ that satisfy all equations while ensuring positivity. The `'lm'` method is robust for small systems and handles internal constraints well when enforced via clipping."
   ]
  },
  {
   "cell_type": "code",
   "execution_count": 20,
   "id": "048c788d-ed81-46e9-84a4-489b0eae9def",
   "metadata": {},
   "outputs": [],
   "source": [
    "import numpy as np\n",
    "from scipy.optimize import root"
   ]
  },
  {
   "cell_type": "code",
   "execution_count": 21,
   "id": "a644b8f0-7efa-427e-abcf-facad7849b73",
   "metadata": {},
   "outputs": [],
   "source": [
    "def system(vars):\n",
    "    \"\"\"\n",
    "    System of nonlinear equations with positivity constraints.\n",
    "    Variables: x1, x2, x3\n",
    "    \"\"\"\n",
    "    # Enforce positivity\n",
    "    x1, x2, x3 = np.maximum(vars, 1e-8)\n",
    "\n",
    "    # Equations\n",
    "    f1 = x1 / x2 - 5 * np.log(0.4 * x2 / x3) + 4.45977\n",
    "    f2 = x2 + x1 - 1\n",
    "    f3 = x3 + 0.5 * x1 - 0.4\n",
    "\n",
    "    return [f1, f2, f3]"
   ]
  },
  {
   "cell_type": "code",
   "execution_count": 22,
   "id": "c9650935-d36f-4a5b-bee2-936e899c244c",
   "metadata": {},
   "outputs": [],
   "source": [
    "# Initial guess\n",
    "x0 = [0.35, 0.5, 0.15]\n",
    "\n",
    "# Solve using Levenberg–Marquardt method\n",
    "solution = root(system, x0, method='lm')"
   ]
  },
  {
   "cell_type": "code",
   "execution_count": 24,
   "id": "b14fed83-73e3-42f8-afbc-e3a6c5b57503",
   "metadata": {},
   "outputs": [
    {
     "name": "stdout",
     "output_type": "stream",
     "text": [
      "Solution found using LM method:\n",
      "  x1 = 0.757396\n",
      "  x2 = 0.242604\n",
      "  x3 = 0.021302\n",
      "Residuals:\n",
      "  f1 = -8.88e-16\n",
      "  f2 = 0.00e+00\n",
      "  f3 = 0.00e+00\n"
     ]
    }
   ],
   "source": [
    "# Display solution and test residuals\n",
    "if solution.success:\n",
    "    x1, x2, x3 = solution.x\n",
    "    residuals = system(solution.x)\n",
    "    print(f\"Solution found using LM method:\")\n",
    "    print(f\"  x1 = {x1:.6f}\")\n",
    "    print(f\"  x2 = {x2:.6f}\")\n",
    "    print(f\"  x3 = {x3:.6f}\")\n",
    "    print(f\"Residuals:\")\n",
    "    print(f\"  f1 = {residuals[0]:.2e}\")\n",
    "    print(f\"  f2 = {residuals[1]:.2e}\")\n",
    "    print(f\"  f3 = {residuals[2]:.2e}\")\n",
    "else:\n",
    "    print(\"Solution did not converge.\")"
   ]
  },
  {
   "cell_type": "code",
   "execution_count": null,
   "id": "af94188e-7cf4-451e-a78d-c7e4e6ae2c10",
   "metadata": {},
   "outputs": [],
   "source": []
  }
 ],
 "metadata": {
  "kernelspec": {
   "display_name": "Python 3 (ipykernel)",
   "language": "python",
   "name": "python3"
  },
  "language_info": {
   "codemirror_mode": {
    "name": "ipython",
    "version": 3
   },
   "file_extension": ".py",
   "mimetype": "text/x-python",
   "name": "python",
   "nbconvert_exporter": "python",
   "pygments_lexer": "ipython3",
   "version": "3.12.10"
  }
 },
 "nbformat": 4,
 "nbformat_minor": 5
}
