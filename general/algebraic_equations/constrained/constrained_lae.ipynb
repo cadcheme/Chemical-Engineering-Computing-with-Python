{
 "cells": [
  {
   "cell_type": "markdown",
   "id": "853450e1-e8fe-4bb7-9b42-d5a25eb8d81a",
   "metadata": {},
   "source": [
    "### Constrained Linear Algebraic System: Solve Ax = b with Sum Constraint\n",
    "\n",
    "We solve the system:\n",
    "\n",
    "$$\n",
    "A \\cdot x = b\n",
    "$$\n",
    "\n",
    "with the constraint:\n",
    "\n",
    "$$\n",
    "x_1 + x_2 + x_3 = 1\n",
    "$$\n",
    "\n",
    "#### Matrix and RHS\n",
    "\n",
    "Let:\n",
    "\n",
    "$$\n",
    "A = \\begin{bmatrix}\n",
    "1 & 3 & 4 \\\\\n",
    "5 & 6 & 9 \\\\\n",
    "1 & 2 & 3\n",
    "\\end{bmatrix}, \\quad\n",
    "b = \\begin{bmatrix}\n",
    "1 \\\\\n",
    "2 \\\\\n",
    "1\n",
    "\\end{bmatrix}\n",
    "$$\n",
    "\n",
    "We use `scipy.optimize.minimize` to find the vector \\( x = [x_1, x_2, x_3] \\) that satisfies the constraint and minimizes the residual norm \\( \\|Ax - b\\|^2 \\)."
   ]
  },
  {
   "cell_type": "markdown",
   "id": "00eebddd-1d31-4a37-9174-746312efa2ae",
   "metadata": {},
   "source": [
    "#### 📦 Cell 1: Load Required Libraries"
   ]
  },
  {
   "cell_type": "code",
   "execution_count": 6,
   "id": "4f2ab108-57e8-4073-8819-6d0dd812a79a",
   "metadata": {},
   "outputs": [],
   "source": [
    "import numpy as np\n",
    "from scipy.optimize import minimize"
   ]
  },
  {
   "cell_type": "markdown",
   "id": "c16689ea-33bf-40ea-a5f3-97bc653b15e9",
   "metadata": {},
   "source": [
    "#### 📐 Cell 2: Define System and Constraint"
   ]
  },
  {
   "cell_type": "code",
   "execution_count": 7,
   "id": "561b3e7c-5a8c-4f85-8f57-e141562cdb89",
   "metadata": {},
   "outputs": [],
   "source": [
    "# Define matrix A and vector b\n",
    "A = np.array([[1, 3, 4],\n",
    "              [5, 6, 9],\n",
    "              [1, 2, 3]])\n",
    "b = np.array([1, 2, 1])\n",
    "\n",
    "# Objective function: minimize ||Ax - b||²\n",
    "def objective(x):\n",
    "    return np.linalg.norm(A @ x - b)**2\n",
    "\n",
    "# Constraint: sum(x) = 1\n",
    "def constraint_sum(x):\n",
    "    return np.sum(x) - 1"
   ]
  },
  {
   "cell_type": "markdown",
   "id": "d64f390c-de29-48a5-b982-5373789ef06c",
   "metadata": {},
   "source": [
    "#### 🧮 Cell 3: Solve with Constraint"
   ]
  },
  {
   "cell_type": "code",
   "execution_count": 8,
   "id": "c91c166a-6a24-44d6-858b-6c6063678203",
   "metadata": {},
   "outputs": [],
   "source": [
    "# Initial guess\n",
    "x0 = np.array([0.3, 0.3, 0.4])\n",
    "\n",
    "# Define constraint dictionary\n",
    "constraints = {'type': 'eq', 'fun': constraint_sum}\n",
    "\n",
    "# Solve using minimize\n",
    "solution = minimize(objective, x0, constraints=constraints)"
   ]
  },
  {
   "cell_type": "markdown",
   "id": "698590aa-55f9-49f5-8d28-c2df23b2da71",
   "metadata": {},
   "source": [
    "#### 📊 Cell 4: Display Results"
   ]
  },
  {
   "cell_type": "code",
   "execution_count": 9,
   "id": "57a28f2a-3342-4ee1-a423-0f2de73aa91c",
   "metadata": {},
   "outputs": [
    {
     "name": "stdout",
     "output_type": "stream",
     "text": [
      "Constrained Solution Found:\n",
      "  x = [ 0.29999998  1.90000008 -1.20000005]\n",
      "  Ax = [1.2        2.09999987 0.49999997]\n",
      "  Residual ||Ax - b|| = 5.4772e-01\n",
      "  Sum(x) = 1.0000\n"
     ]
    }
   ],
   "source": [
    "# Display solution\n",
    "if solution.success:\n",
    "    x = solution.x\n",
    "    Ax = A @ x\n",
    "    residual = np.linalg.norm(Ax - b)\n",
    "    print(\"Constrained Solution Found:\")\n",
    "    print(f\"  x = {x}\")\n",
    "    print(f\"  Ax = {Ax}\")\n",
    "    print(f\"  Residual ||Ax - b|| = {residual:.4e}\")\n",
    "    print(f\"  Sum(x) = {np.sum(x):.4f}\")\n",
    "else:\n",
    "    print(\"Optimization did not converge.\")"
   ]
  },
  {
   "cell_type": "code",
   "execution_count": null,
   "id": "2d488761-8c68-4b56-ba8c-294486b1e7a9",
   "metadata": {},
   "outputs": [],
   "source": []
  }
 ],
 "metadata": {
  "kernelspec": {
   "display_name": "Python 3 (ipykernel)",
   "language": "python",
   "name": "python3"
  },
  "language_info": {
   "codemirror_mode": {
    "name": "ipython",
    "version": 3
   },
   "file_extension": ".py",
   "mimetype": "text/x-python",
   "name": "python",
   "nbconvert_exporter": "python",
   "pygments_lexer": "ipython3",
   "version": "3.12.10"
  }
 },
 "nbformat": 4,
 "nbformat_minor": 5
}
