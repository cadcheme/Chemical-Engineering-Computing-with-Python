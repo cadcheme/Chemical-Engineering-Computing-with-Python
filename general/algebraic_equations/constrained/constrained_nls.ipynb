{
 "cells": [
  {
   "cell_type": "markdown",
   "id": "24550f66-eea2-463f-a122-54c899fd7514",
   "metadata": {},
   "source": [
    "### Solving a Constrained Nonlinear Algebraic System Using `scipy.optimize.minimize`\n",
    "\n",
    "We solve the system:\n",
    "\n",
    "$$\n",
    "\\begin{cases}\n",
    "f_1(x_1, x_2, x_3) = \\dfrac{x_1}{x_2} - 5 \\ln\\left(\\dfrac{0.4 x_2}{x_3}\\right) + 4.45977 = 0 \\\\\n",
    "f_2(x_1, x_2) = x_2 + x_1 - 1 = 0 \\\\\n",
    "f_3(x_1, x_3) = x_3 + 0.5 x_1 - 0.4 = 0\n",
    "\\end{cases}\n",
    "$$\n",
    "\n",
    "#### Initial Guesses and Constraints\n",
    "\n",
    "- $ x_1(0) = 0.35 \\geq 0 $\n",
    "- $ x_2(0) = 0.5 > 0 $\n",
    "- $ x_3(0) = 0.15 > 0 $\n",
    "\n",
    "We minimize the sum of squared residuals:\n",
    "\n",
    "$$\n",
    "\\text{Objective: } \\|f_1\\|^2 + \\|f_2\\|^2 + \\|f_3\\|^2\n",
    "$$\n",
    "\n",
    "using `scipy.optimize.minimize`, with positivity enforced via bounds."
   ]
  },
  {
   "cell_type": "markdown",
   "id": "b975059a-a0a4-435c-8bbd-72182ccd8c65",
   "metadata": {},
   "source": [
    "📦 Cell 1: Load Required Librarie"
   ]
  },
  {
   "cell_type": "code",
   "execution_count": 1,
   "id": "b2c3005e-1f50-4f65-8867-b12aa4b1bbcc",
   "metadata": {},
   "outputs": [],
   "source": [
    "import numpy as np\n",
    "from scipy.optimize import minimize"
   ]
  },
  {
   "cell_type": "markdown",
   "id": "6fa8f74e-a658-4909-a0b6-b959770b7206",
   "metadata": {},
   "source": [
    "📐 Cell 2: Define System and Objective Function"
   ]
  },
  {
   "cell_type": "code",
   "execution_count": 2,
   "id": "717d42aa-715c-4c73-a914-dd8fbbd0eb66",
   "metadata": {},
   "outputs": [],
   "source": [
    "def system_residuals(x):\n",
    "    \"\"\"\n",
    "    Residuals of the nonlinear system.\n",
    "    Enforces positivity via bounds in optimizer.\n",
    "    \"\"\"\n",
    "    x1, x2, x3 = x\n",
    "\n",
    "    # Equations\n",
    "    f1 = x1 / x2 - 5 * np.log(0.4 * x2 / x3) + 4.45977\n",
    "    f2 = x2 + x1 - 1\n",
    "    f3 = x3 + 0.5 * x1 - 0.4\n",
    "\n",
    "    # Objective: sum of squared residuals\n",
    "    return f1**2 + f2**2 + f3**2"
   ]
  },
  {
   "cell_type": "markdown",
   "id": "2851bd32-1f53-4cf5-a2d1-849f81ca29d5",
   "metadata": {},
   "source": [
    "🧮 Cell 3: Solve Using minimize"
   ]
  },
  {
   "cell_type": "code",
   "execution_count": 3,
   "id": "b6bc08ab-9f5f-4ec9-819b-b65efff35802",
   "metadata": {},
   "outputs": [],
   "source": [
    "# Initial guess\n",
    "x0 = [0.35, 0.5, 0.15]\n",
    "\n",
    "# Bounds to enforce positivity\n",
    "bounds = [(0, None), (1e-8, None), (1e-8, None)]\n",
    "\n",
    "# Minimize the residual norm\n",
    "solution = minimize(system_residuals, x0, bounds=bounds)"
   ]
  },
  {
   "cell_type": "markdown",
   "id": "2d2888ad-9f9e-464a-8bf0-db2ea8d1a1f4",
   "metadata": {},
   "source": [
    "📊 Cell 4: Display Results"
   ]
  },
  {
   "cell_type": "code",
   "execution_count": 4,
   "id": "8717ab43-f158-4883-8311-4761e6b9059c",
   "metadata": {},
   "outputs": [
    {
     "name": "stdout",
     "output_type": "stream",
     "text": [
      "Constrained Nonlinear Solution Found:\n",
      "  x1 = 0.757746\n",
      "  x2 = 0.242228\n",
      "  x3 = 0.021242\n",
      "Residuals:\n",
      "  f1 = -1.63e-06\n",
      "  f2 = -2.66e-05\n",
      "  f3 = 1.15e-04\n",
      "  Total Objective = 1.39e-08\n"
     ]
    }
   ],
   "source": [
    "# Display solution\n",
    "if solution.success:\n",
    "    x1, x2, x3 = solution.x\n",
    "    f1 = x1 / x2 - 5 * np.log(0.4 * x2 / x3) + 4.45977\n",
    "    f2 = x2 + x1 - 1\n",
    "    f3 = x3 + 0.5 * x1 - 0.4\n",
    "    print(\"Constrained Nonlinear Solution Found:\")\n",
    "    print(f\"  x1 = {x1:.6f}\")\n",
    "    print(f\"  x2 = {x2:.6f}\")\n",
    "    print(f\"  x3 = {x3:.6f}\")\n",
    "    print(\"Residuals:\")\n",
    "    print(f\"  f1 = {f1:.2e}\")\n",
    "    print(f\"  f2 = {f2:.2e}\")\n",
    "    print(f\"  f3 = {f3:.2e}\")\n",
    "    print(f\"  Total Objective = {solution.fun:.2e}\")\n",
    "else:\n",
    "    print(\"Optimization did not converge.\")"
   ]
  },
  {
   "cell_type": "code",
   "execution_count": null,
   "id": "8679ae3b-5dda-400e-b8d7-75405b5f8dae",
   "metadata": {},
   "outputs": [],
   "source": []
  }
 ],
 "metadata": {
  "kernelspec": {
   "display_name": "Python 3 (ipykernel)",
   "language": "python",
   "name": "python3"
  },
  "language_info": {
   "codemirror_mode": {
    "name": "ipython",
    "version": 3
   },
   "file_extension": ".py",
   "mimetype": "text/x-python",
   "name": "python",
   "nbconvert_exporter": "python",
   "pygments_lexer": "ipython3",
   "version": "3.12.10"
  }
 },
 "nbformat": 4,
 "nbformat_minor": 5
}
